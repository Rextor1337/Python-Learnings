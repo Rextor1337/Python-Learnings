{
 "cells": [
  {
   "cell_type": "code",
   "execution_count": 1,
   "id": "1aaf0c2f",
   "metadata": {},
   "outputs": [
    {
     "name": "stdout",
     "output_type": "stream",
     "text": [
      "..2\n"
     ]
    }
   ],
   "source": [
    "a = int(input(\"..\"))"
   ]
  },
  {
   "cell_type": "code",
   "execution_count": 2,
   "id": "5b8ab8b4",
   "metadata": {},
   "outputs": [
    {
     "data": {
      "text/plain": [
       "2"
      ]
     },
     "execution_count": 2,
     "metadata": {},
     "output_type": "execute_result"
    }
   ],
   "source": [
    "a"
   ]
  },
  {
   "cell_type": "code",
   "execution_count": 3,
   "id": "f9824328",
   "metadata": {},
   "outputs": [
    {
     "data": {
      "text/plain": [
       "int"
      ]
     },
     "execution_count": 3,
     "metadata": {},
     "output_type": "execute_result"
    }
   ],
   "source": [
    "type(a)"
   ]
  },
  {
   "cell_type": "code",
   "execution_count": 8,
   "id": "79047a07",
   "metadata": {},
   "outputs": [
    {
     "name": "stdout",
     "output_type": "stream",
     "text": [
      "-1\n",
      "2\n",
      "-3\n",
      "4\n",
      "-5\n"
     ]
    }
   ],
   "source": [
    "liste = [1,2,3,4,5]\n",
    "for a in liste:\n",
    "    if a%2 == 0:\n",
    "        print(a)\n",
    "    else: \n",
    "         print(-a)"
   ]
  },
  {
   "cell_type": "code",
   "execution_count": 6,
   "id": "fac02684",
   "metadata": {},
   "outputs": [
    {
     "name": "stdout",
     "output_type": "stream",
     "text": [
      "2\n",
      "2\n",
      "2\n"
     ]
    }
   ],
   "source": [
    "liste2 = [(1,2,3),(1,2,3),(1,2,3)]\n",
    "for (x,y,z) in liste2:\n",
    "    print(y)"
   ]
  },
  {
   "cell_type": "code",
   "execution_count": 2,
   "id": "81acc8b7",
   "metadata": {},
   "outputs": [
    {
     "name": "stdout",
     "output_type": "stream",
     "text": [
      "3\n"
     ]
    }
   ],
   "source": [
    "x = lambda y : print(y)\n",
    "z = x(3)\n",
    "z"
   ]
  },
  {
   "cell_type": "code",
   "execution_count": 3,
   "id": "bacd927b",
   "metadata": {},
   "outputs": [
    {
     "data": {
      "text/plain": [
       "range(6, 20)"
      ]
     },
     "execution_count": 3,
     "metadata": {},
     "output_type": "execute_result"
    }
   ],
   "source": [
    "range(6,20)"
   ]
  },
  {
   "cell_type": "code",
   "execution_count": 5,
   "id": "6f0524c2",
   "metadata": {},
   "outputs": [
    {
     "data": {
      "text/plain": [
       "True"
      ]
     },
     "execution_count": 5,
     "metadata": {},
     "output_type": "execute_result"
    }
   ],
   "source": [
    "20 in range(6, 21)"
   ]
  },
  {
   "cell_type": "code",
   "execution_count": 6,
   "id": "a81ee14f",
   "metadata": {},
   "outputs": [
    {
     "data": {
      "text/plain": [
       "True"
      ]
     },
     "execution_count": 6,
     "metadata": {},
     "output_type": "execute_result"
    }
   ],
   "source": [
    "6 in range(6, 21)"
   ]
  },
  {
   "cell_type": "code",
   "execution_count": 10,
   "id": "7c5d265e",
   "metadata": {},
   "outputs": [
    {
     "name": "stdout",
     "output_type": "stream",
     "text": [
      "2\n",
      "3\n",
      "4\n",
      "1\n",
      "[0, 1, 2]\n",
      "[0, 1, 2, 3]\n",
      "[0, 1, 2, 3, 4]\n"
     ]
    }
   ],
   "source": [
    "    x = int(input())\n",
    "    y = int(input())\n",
    "    z = int(input())\n",
    "    n = int(input())\n",
    "    \n",
    "    i = list(range(0,x+1))\n",
    "    j = list(range(0,y+1))\n",
    "    k = list(range(0,z+1))\n",
    "    print(i)\n",
    "    print(j)\n",
    "    print(k)"
   ]
  },
  {
   "cell_type": "code",
   "execution_count": 17,
   "id": "a0d6c75f",
   "metadata": {},
   "outputs": [
    {
     "name": "stdout",
     "output_type": "stream",
     "text": [
      "1\n",
      "1\n",
      "2\n",
      "3\n"
     ]
    },
    {
     "data": {
      "text/plain": [
       "[[0, 0, 0],\n",
       " [0, 0, 1],\n",
       " [0, 0, 2],\n",
       " [0, 1, 0],\n",
       " [0, 1, 1],\n",
       " [1, 0, 0],\n",
       " [1, 0, 1],\n",
       " [1, 1, 0],\n",
       " [1, 1, 2]]"
      ]
     },
     "execution_count": 17,
     "metadata": {},
     "output_type": "execute_result"
    }
   ],
   "source": [
    "    x = int(input())\n",
    "    y = int(input())\n",
    "    z = int(input())\n",
    "    n = int(input())\n",
    "    \n",
    "    i = list(range(0,x+1))\n",
    "    j = list(range(0,y+1))\n",
    "    k = list(range(0,z+1))\n",
    "    \n",
    "    lis = []\n",
    "    \n",
    "    for eleman1 in i:\n",
    "        for eleman2 in j:\n",
    "            for eleman3 in k:\n",
    "                if eleman1+eleman2+eleman3 != n:\n",
    "                    lis.append([eleman1,eleman2,eleman3])\n",
    "                else:\n",
    "                    continue\n",
    "                    \n",
    "                    \n",
    "lis   \n",
    "\n"
   ]
  },
  {
   "cell_type": "code",
   "execution_count": 19,
   "id": "aa2b6142",
   "metadata": {},
   "outputs": [
    {
     "name": "stdout",
     "output_type": "stream",
     "text": [
      "Resat\n",
      "2\n",
      "3\n",
      "4\n",
      "1\n",
      "True\n"
     ]
    }
   ],
   "source": [
    "liste = [\"Resat\",2,3,4,1,True]\n",
    "for eleman in range(len(liste)):\n",
    "    print(liste[eleman])"
   ]
  },
  {
   "cell_type": "code",
   "execution_count": 20,
   "id": "a7e30409",
   "metadata": {},
   "outputs": [
    {
     "data": {
      "text/plain": [
       "range"
      ]
     },
     "execution_count": 20,
     "metadata": {},
     "output_type": "execute_result"
    }
   ],
   "source": [
    "type(range(len(liste)))"
   ]
  },
  {
   "cell_type": "code",
   "execution_count": 24,
   "id": "4a9eced9",
   "metadata": {},
   "outputs": [
    {
     "name": "stdout",
     "output_type": "stream",
     "text": [
      "3\n",
      "1\n",
      "<map object at 0x000001AA56B4A680>\n"
     ]
    }
   ],
   "source": [
    "n = int(input())\n",
    "arr = map(n, input().split())\n",
    "print(arr)"
   ]
  },
  {
   "cell_type": "markdown",
   "id": "50e673bf",
   "metadata": {},
   "source": [
    "n = int(input().split())\n",
    "liste = []\n",
    "    \n",
    "for eleman in range(0,n):\n",
    "    liste.append(int(input().split()))"
   ]
  },
  {
   "cell_type": "code",
   "execution_count": 25,
   "id": "a60d24e0",
   "metadata": {},
   "outputs": [
    {
     "ename": "IndentationError",
     "evalue": "unexpected indent (1150676566.py, line 2)",
     "output_type": "error",
     "traceback": [
      "\u001b[1;36m  Cell \u001b[1;32mIn [25], line 2\u001b[1;36m\u001b[0m\n\u001b[1;33m    liste = []\u001b[0m\n\u001b[1;37m    ^\u001b[0m\n\u001b[1;31mIndentationError\u001b[0m\u001b[1;31m:\u001b[0m unexpected indent\n"
     ]
    }
   ],
   "source": [
    " n = int(input().split())\n",
    "    liste = []\n",
    "    \n",
    "    for eleman in range(0,n):\n",
    "        liste.append(int(input().split()))"
   ]
  },
  {
   "cell_type": "code",
   "execution_count": 4,
   "id": "55374fb4",
   "metadata": {},
   "outputs": [
    {
     "name": "stdout",
     "output_type": "stream",
     "text": [
      "3\n",
      "2\n",
      "1\n",
      "2\n"
     ]
    },
    {
     "data": {
      "text/plain": [
       "[2, 1, 2]"
      ]
     },
     "execution_count": 4,
     "metadata": {},
     "output_type": "execute_result"
    }
   ],
   "source": [
    "n = int(input())\n",
    "liste = []\n",
    "    \n",
    "for eleman in range(0,n):\n",
    "    liste.append(int(input()))\n",
    "liste"
   ]
  },
  {
   "cell_type": "code",
   "execution_count": 5,
   "id": "59c467cc",
   "metadata": {},
   "outputs": [],
   "source": [
    "while n<2 and n>10:\n",
    "    n = int(input())\n",
    "    liste = []\n",
    "    \n",
    "    \n",
    "    for x in range(0,n):\n",
    "        a = int(input())\n",
    "        if a < -100 and a>100:\n",
    "            liste.append(a)\n",
    "    liste    "
   ]
  },
  {
   "cell_type": "code",
   "execution_count": 2,
   "id": "ff1d5c6e",
   "metadata": {},
   "outputs": [
    {
     "ename": "IndentationError",
     "evalue": "unindent does not match any outer indentation level (<tokenize>, line 3)",
     "output_type": "error",
     "traceback": [
      "\u001b[1;36m  File \u001b[1;32m<tokenize>:3\u001b[1;36m\u001b[0m\n\u001b[1;33m    liste = []\u001b[0m\n\u001b[1;37m    ^\u001b[0m\n\u001b[1;31mIndentationError\u001b[0m\u001b[1;31m:\u001b[0m unindent does not match any outer indentation level\n"
     ]
    }
   ],
   "source": [
    " while n<2 and n>10:\n",
    "        n = int(input())\n",
    "    liste = []\n",
    "    \n",
    "    \n",
    "    for x in range(0,n):\n",
    "        a = int(input())\n",
    "        if a < -100 and a>100:\n",
    "            liste.append(a)\n",
    "    liste "
   ]
  },
  {
   "cell_type": "code",
   "execution_count": null,
   "id": "59ebb129",
   "metadata": {},
   "outputs": [],
   "source": []
  }
 ],
 "metadata": {
  "celltoolbar": "Необработанный формат ячейки",
  "kernelspec": {
   "display_name": "Python 3 (ipykernel)",
   "language": "python",
   "name": "python3"
  },
  "language_info": {
   "codemirror_mode": {
    "name": "ipython",
    "version": 3
   },
   "file_extension": ".py",
   "mimetype": "text/x-python",
   "name": "python",
   "nbconvert_exporter": "python",
   "pygments_lexer": "ipython3",
   "version": "3.10.7"
  }
 },
 "nbformat": 4,
 "nbformat_minor": 5
}
