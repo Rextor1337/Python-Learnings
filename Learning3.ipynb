{
 "cells": [
  {
   "cell_type": "code",
   "execution_count": 54,
   "id": "fccef1fe",
   "metadata": {},
   "outputs": [
    {
     "name": "stdout",
     "output_type": "stream",
     "text": [
      "5\n",
      "a\n",
      "1\n",
      "s\n",
      "1\n",
      "d\n",
      "2\n",
      "f\n",
      "2\n",
      "g\n",
      "3\n",
      "a\n",
      "s\n"
     ]
    }
   ],
   "source": [
    "a = True \n",
    "y = 0\n",
    "while a:\n",
    "    x = int(input())\n",
    "    if x<2 or x>5:\n",
    "        continue\n",
    "    else:\n",
    "        y = x\n",
    "        a = False\n",
    "  \n",
    "L = []\n",
    "\n",
    "\n",
    "for i in range(y):\n",
    "    name = input()\n",
    "    score = float(input())\n",
    "    L.append([name,score])\n",
    "\n",
    "def second_smallest(L):\n",
    "    m1 = m2 = float('inf')\n",
    "    for x in L:\n",
    "        if x[1] <= m1:\n",
    "            m1, m2 = x[1], m1\n",
    "        elif x[1] < m2:\n",
    "             m2 = x[1]\n",
    "    return m2 \n",
    "\n",
    "def second_smallest_names(m2,L):\n",
    "    N = []\n",
    "    for c in L:\n",
    "        if m2 in c:\n",
    "            N.append(c[0])\n",
    "        else:\n",
    "            continue\n",
    "    return N        \n",
    "\n",
    "def second_smallest_names_print(N):\n",
    "    M = sorted(N)\n",
    "    for x in M:\n",
    "        if x != None:\n",
    "            print(x)\n",
    "   \n",
    "second_smallest_names_print(second_smallest_names(second_smallest(L),L))\n",
    "\n",
    "    "
   ]
  },
  {
   "cell_type": "markdown",
   "id": "ac1138eb",
   "metadata": {},
   "source": [
    "# "
   ]
  },
  {
   "cell_type": "code",
   "execution_count": 26,
   "id": "e1429cbb",
   "metadata": {},
   "outputs": [
    {
     "name": "stdout",
     "output_type": "stream",
     "text": [
      "N:1\n",
      "N:8\n",
      "N:3\n",
      "3\n"
     ]
    }
   ],
   "source": [
    "a = True \n",
    "y = 0\n",
    "while a:\n",
    "    x = int(input(\"N:\"))\n",
    "    if x<2 or x>5:\n",
    "        continue\n",
    "    else:\n",
    "        y = x\n",
    "        a = False\n",
    "print(y)  "
   ]
  },
  {
   "cell_type": "markdown",
   "id": "9975a67f",
   "metadata": {},
   "source": [
    "5\n",
    "Harsh\n",
    "20\n",
    "Beria\n",
    "20\n",
    "Varun\n",
    "19\n",
    "Kakunami\n",
    "19\n",
    "Vikas\n",
    "21"
   ]
  }
 ],
 "metadata": {
  "kernelspec": {
   "display_name": "Python 3 (ipykernel)",
   "language": "python",
   "name": "python3"
  },
  "language_info": {
   "codemirror_mode": {
    "name": "ipython",
    "version": 3
   },
   "file_extension": ".py",
   "mimetype": "text/x-python",
   "name": "python",
   "nbconvert_exporter": "python",
   "pygments_lexer": "ipython3",
   "version": "3.10.7"
  }
 },
 "nbformat": 4,
 "nbformat_minor": 5
}
