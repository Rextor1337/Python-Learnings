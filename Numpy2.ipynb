{
 "cells": [
  {
   "cell_type": "code",
   "execution_count": 3,
   "id": "e9c85244",
   "metadata": {},
   "outputs": [],
   "source": [
    "import numpy as np"
   ]
  },
  {
   "cell_type": "code",
   "execution_count": 2,
   "id": "b815eaef",
   "metadata": {},
   "outputs": [],
   "source": [
    "myArray = np.arange(0,15)"
   ]
  },
  {
   "cell_type": "code",
   "execution_count": 3,
   "id": "7c0f9954",
   "metadata": {},
   "outputs": [
    {
     "data": {
      "text/plain": [
       "array([ 0,  1,  2,  3,  4,  5,  6,  7,  8,  9, 10, 11, 12, 13, 14])"
      ]
     },
     "execution_count": 3,
     "metadata": {},
     "output_type": "execute_result"
    }
   ],
   "source": [
    "myArray"
   ]
  },
  {
   "cell_type": "code",
   "execution_count": 4,
   "id": "fa1e1d04",
   "metadata": {},
   "outputs": [
    {
     "data": {
      "text/plain": [
       "5"
      ]
     },
     "execution_count": 4,
     "metadata": {},
     "output_type": "execute_result"
    }
   ],
   "source": [
    "myArray[5]"
   ]
  },
  {
   "cell_type": "code",
   "execution_count": 6,
   "id": "5652d719",
   "metadata": {},
   "outputs": [
    {
     "data": {
      "text/plain": [
       "array([2, 3, 4])"
      ]
     },
     "execution_count": 6,
     "metadata": {},
     "output_type": "execute_result"
    }
   ],
   "source": [
    "myArray[2:5]"
   ]
  },
  {
   "cell_type": "code",
   "execution_count": 7,
   "id": "4a372730",
   "metadata": {},
   "outputs": [],
   "source": [
    "myArray[3:8] = -5"
   ]
  },
  {
   "cell_type": "code",
   "execution_count": 8,
   "id": "c68cc12b",
   "metadata": {},
   "outputs": [
    {
     "data": {
      "text/plain": [
       "array([ 0,  1,  2, -5, -5, -5, -5, -5,  8,  9, 10, 11, 12, 13, 14])"
      ]
     },
     "execution_count": 8,
     "metadata": {},
     "output_type": "execute_result"
    }
   ],
   "source": [
    "myArray"
   ]
  },
  {
   "cell_type": "code",
   "execution_count": 9,
   "id": "b2719ef5",
   "metadata": {},
   "outputs": [],
   "source": [
    "myArray2 = np.arange(0,24)"
   ]
  },
  {
   "cell_type": "code",
   "execution_count": 10,
   "id": "07a67cb0",
   "metadata": {},
   "outputs": [],
   "source": [
    "myArray2Cut = myArray2[2:5]"
   ]
  },
  {
   "cell_type": "code",
   "execution_count": 11,
   "id": "bcad7991",
   "metadata": {},
   "outputs": [
    {
     "data": {
      "text/plain": [
       "array([2, 3, 4])"
      ]
     },
     "execution_count": 11,
     "metadata": {},
     "output_type": "execute_result"
    }
   ],
   "source": [
    "myArray2Cut"
   ]
  },
  {
   "cell_type": "code",
   "execution_count": 12,
   "id": "b3ecfc62",
   "metadata": {},
   "outputs": [],
   "source": [
    "myArray2Cut[:] = 100"
   ]
  },
  {
   "cell_type": "code",
   "execution_count": 13,
   "id": "c8794b31",
   "metadata": {},
   "outputs": [
    {
     "data": {
      "text/plain": [
       "array([100, 100, 100])"
      ]
     },
     "execution_count": 13,
     "metadata": {},
     "output_type": "execute_result"
    }
   ],
   "source": [
    "myArray2Cut"
   ]
  },
  {
   "cell_type": "code",
   "execution_count": 14,
   "id": "52880467",
   "metadata": {},
   "outputs": [
    {
     "data": {
      "text/plain": [
       "array([  0,   1, 100, 100, 100,   5,   6,   7,   8,   9,  10,  11,  12,\n",
       "        13,  14,  15,  16,  17,  18,  19,  20,  21,  22,  23])"
      ]
     },
     "execution_count": 14,
     "metadata": {},
     "output_type": "execute_result"
    }
   ],
   "source": [
    "myArray2"
   ]
  },
  {
   "cell_type": "code",
   "execution_count": 15,
   "id": "a70b8a58",
   "metadata": {},
   "outputs": [],
   "source": [
    "exArray = np.arange(0,24)"
   ]
  },
  {
   "cell_type": "code",
   "execution_count": 16,
   "id": "051d4a7d",
   "metadata": {},
   "outputs": [],
   "source": [
    "ex2Array = exArray.copy()"
   ]
  },
  {
   "cell_type": "code",
   "execution_count": 17,
   "id": "ff51c9e5",
   "metadata": {},
   "outputs": [
    {
     "data": {
      "text/plain": [
       "array([ 0,  1,  2,  3,  4,  5,  6,  7,  8,  9, 10, 11, 12, 13, 14, 15, 16,\n",
       "       17, 18, 19, 20, 21, 22, 23])"
      ]
     },
     "execution_count": 17,
     "metadata": {},
     "output_type": "execute_result"
    }
   ],
   "source": [
    "ex2Array"
   ]
  },
  {
   "cell_type": "code",
   "execution_count": 18,
   "id": "122d4062",
   "metadata": {},
   "outputs": [],
   "source": [
    "ex2Array[:]= 100"
   ]
  },
  {
   "cell_type": "code",
   "execution_count": 19,
   "id": "c873cfcf",
   "metadata": {},
   "outputs": [
    {
     "data": {
      "text/plain": [
       "array([100, 100, 100, 100, 100, 100, 100, 100, 100, 100, 100, 100, 100,\n",
       "       100, 100, 100, 100, 100, 100, 100, 100, 100, 100, 100])"
      ]
     },
     "execution_count": 19,
     "metadata": {},
     "output_type": "execute_result"
    }
   ],
   "source": [
    "ex2Array"
   ]
  },
  {
   "cell_type": "code",
   "execution_count": 20,
   "id": "b5c0ebc0",
   "metadata": {},
   "outputs": [
    {
     "data": {
      "text/plain": [
       "array([ 0,  1,  2,  3,  4,  5,  6,  7,  8,  9, 10, 11, 12, 13, 14, 15, 16,\n",
       "       17, 18, 19, 20, 21, 22, 23])"
      ]
     },
     "execution_count": 20,
     "metadata": {},
     "output_type": "execute_result"
    }
   ],
   "source": [
    "exArray"
   ]
  },
  {
   "cell_type": "markdown",
   "id": "c47ea4b3",
   "metadata": {},
   "source": [
    "## Matrix"
   ]
  },
  {
   "cell_type": "code",
   "execution_count": 5,
   "id": "17d60f10",
   "metadata": {},
   "outputs": [],
   "source": [
    "myList = [[1,2,3],[2,3,4],[3,4,5]]"
   ]
  },
  {
   "cell_type": "code",
   "execution_count": 6,
   "id": "6646af0d",
   "metadata": {},
   "outputs": [],
   "source": [
    "myMatrixList = np.array(myList)"
   ]
  },
  {
   "cell_type": "code",
   "execution_count": 7,
   "id": "55255d46",
   "metadata": {},
   "outputs": [
    {
     "data": {
      "text/plain": [
       "array([[1, 2, 3],\n",
       "       [2, 3, 4],\n",
       "       [3, 4, 5]])"
      ]
     },
     "execution_count": 7,
     "metadata": {},
     "output_type": "execute_result"
    }
   ],
   "source": [
    "myMatrixList"
   ]
  },
  {
   "cell_type": "code",
   "execution_count": 8,
   "id": "6e3f2d88",
   "metadata": {},
   "outputs": [
    {
     "data": {
      "text/plain": [
       "array([1, 2, 3])"
      ]
     },
     "execution_count": 8,
     "metadata": {},
     "output_type": "execute_result"
    }
   ],
   "source": [
    "myMatrixList[0]"
   ]
  },
  {
   "cell_type": "code",
   "execution_count": 9,
   "id": "0ca84d0b",
   "metadata": {},
   "outputs": [
    {
     "data": {
      "text/plain": [
       "2"
      ]
     },
     "execution_count": 9,
     "metadata": {},
     "output_type": "execute_result"
    }
   ],
   "source": [
    "myMatrixList[0][1]"
   ]
  },
  {
   "cell_type": "code",
   "execution_count": 10,
   "id": "e692e925",
   "metadata": {},
   "outputs": [
    {
     "data": {
      "text/plain": [
       "2"
      ]
     },
     "execution_count": 10,
     "metadata": {},
     "output_type": "execute_result"
    }
   ],
   "source": [
    "myMatrixList[0,1]"
   ]
  },
  {
   "cell_type": "code",
   "execution_count": 11,
   "id": "9ee1b06a",
   "metadata": {},
   "outputs": [
    {
     "data": {
      "text/plain": [
       "array([4, 5])"
      ]
     },
     "execution_count": 11,
     "metadata": {},
     "output_type": "execute_result"
    }
   ],
   "source": [
    "myMatrixList[1:,2]"
   ]
  },
  {
   "cell_type": "code",
   "execution_count": 12,
   "id": "4edc8692",
   "metadata": {},
   "outputs": [
    {
     "data": {
      "text/plain": [
       "array([3, 4, 5])"
      ]
     },
     "execution_count": 12,
     "metadata": {},
     "output_type": "execute_result"
    }
   ],
   "source": [
    "myMatrixList[0:,2]"
   ]
  },
  {
   "cell_type": "code",
   "execution_count": 15,
   "id": "e117fb5b",
   "metadata": {},
   "outputs": [
    {
     "data": {
      "text/plain": [
       "array([[5]])"
      ]
     },
     "execution_count": 15,
     "metadata": {},
     "output_type": "execute_result"
    }
   ],
   "source": [
    "myMatrixList[2:,2:]"
   ]
  },
  {
   "cell_type": "code",
   "execution_count": 16,
   "id": "c427d8af",
   "metadata": {},
   "outputs": [
    {
     "data": {
      "text/plain": [
       "array([[1, 2, 3],\n",
       "       [2, 3, 4]])"
      ]
     },
     "execution_count": 16,
     "metadata": {},
     "output_type": "execute_result"
    }
   ],
   "source": [
    "myMatrixList[[0,1]]"
   ]
  },
  {
   "cell_type": "markdown",
   "id": "4ab491c9",
   "metadata": {},
   "source": [
    "## Operations"
   ]
  },
  {
   "cell_type": "code",
   "execution_count": 19,
   "id": "a56e9b64",
   "metadata": {},
   "outputs": [],
   "source": [
    "list = np.random.randint(1,100,10)"
   ]
  },
  {
   "cell_type": "code",
   "execution_count": 20,
   "id": "ac712382",
   "metadata": {},
   "outputs": [
    {
     "data": {
      "text/plain": [
       "array([76, 63, 28, 54, 25, 13, 52, 25, 32, 26])"
      ]
     },
     "execution_count": 20,
     "metadata": {},
     "output_type": "execute_result"
    }
   ],
   "source": [
    "list"
   ]
  },
  {
   "cell_type": "code",
   "execution_count": 21,
   "id": "8e150b39",
   "metadata": {},
   "outputs": [
    {
     "data": {
      "text/plain": [
       "array([ True,  True,  True,  True,  True, False,  True,  True,  True,\n",
       "        True])"
      ]
     },
     "execution_count": 21,
     "metadata": {},
     "output_type": "execute_result"
    }
   ],
   "source": [
    "list > 24"
   ]
  },
  {
   "cell_type": "code",
   "execution_count": 22,
   "id": "8a578d03",
   "metadata": {},
   "outputs": [],
   "source": [
    "list1 = list > 50"
   ]
  },
  {
   "cell_type": "code",
   "execution_count": 24,
   "id": "8dda62fd",
   "metadata": {},
   "outputs": [
    {
     "data": {
      "text/plain": [
       "array([ True,  True, False,  True, False, False,  True, False, False,\n",
       "       False])"
      ]
     },
     "execution_count": 24,
     "metadata": {},
     "output_type": "execute_result"
    }
   ],
   "source": [
    "list1"
   ]
  },
  {
   "cell_type": "code",
   "execution_count": 26,
   "id": "f52653df",
   "metadata": {},
   "outputs": [
    {
     "data": {
      "text/plain": [
       "array([76, 63, 54, 52])"
      ]
     },
     "execution_count": 26,
     "metadata": {},
     "output_type": "execute_result"
    }
   ],
   "source": [
    "list[list1]"
   ]
  },
  {
   "cell_type": "code",
   "execution_count": 27,
   "id": "28e94412",
   "metadata": {},
   "outputs": [
    {
     "data": {
      "text/plain": [
       "array([76, 63, 54, 52, 32])"
      ]
     },
     "execution_count": 27,
     "metadata": {},
     "output_type": "execute_result"
    }
   ],
   "source": [
    "list[list>30]"
   ]
  },
  {
   "cell_type": "code",
   "execution_count": 29,
   "id": "b7401ba1",
   "metadata": {},
   "outputs": [
    {
     "data": {
      "text/plain": [
       "array([77, 64, 28, 55, 25, 13, 53, 25, 32, 26])"
      ]
     },
     "execution_count": 29,
     "metadata": {},
     "output_type": "execute_result"
    }
   ],
   "source": [
    "list + list1"
   ]
  },
  {
   "cell_type": "code",
   "execution_count": 30,
   "id": "e0999141",
   "metadata": {},
   "outputs": [
    {
     "name": "stderr",
     "output_type": "stream",
     "text": [
      "C:\\Users\\user\\AppData\\Local\\Temp\\ipykernel_17652\\1364610129.py:1: RuntimeWarning: divide by zero encountered in divide\n",
      "  list / list1\n"
     ]
    },
    {
     "data": {
      "text/plain": [
       "array([76., 63., inf, 54., inf, inf, 52., inf, inf, inf])"
      ]
     },
     "execution_count": 30,
     "metadata": {},
     "output_type": "execute_result"
    }
   ],
   "source": [
    "list / list1"
   ]
  },
  {
   "cell_type": "code",
   "execution_count": 31,
   "id": "a49a79d4",
   "metadata": {},
   "outputs": [
    {
     "data": {
      "text/plain": [
       "array([8.71779789, 7.93725393, 5.29150262, 7.34846923, 5.        ,\n",
       "       3.60555128, 7.21110255, 5.        , 5.65685425, 5.09901951])"
      ]
     },
     "execution_count": 31,
     "metadata": {},
     "output_type": "execute_result"
    }
   ],
   "source": [
    "np.sqrt(list)"
   ]
  },
  {
   "cell_type": "code",
   "execution_count": 32,
   "id": "8fb18baf",
   "metadata": {},
   "outputs": [
    {
     "data": {
      "text/plain": [
       "76"
      ]
     },
     "execution_count": 32,
     "metadata": {},
     "output_type": "execute_result"
    }
   ],
   "source": [
    "np.max(list)"
   ]
  },
  {
   "cell_type": "code",
   "execution_count": null,
   "id": "0b12b8c2",
   "metadata": {},
   "outputs": [],
   "source": []
  }
 ],
 "metadata": {
  "kernelspec": {
   "display_name": "Python 3 (ipykernel)",
   "language": "python",
   "name": "python3"
  },
  "language_info": {
   "codemirror_mode": {
    "name": "ipython",
    "version": 3
   },
   "file_extension": ".py",
   "mimetype": "text/x-python",
   "name": "python",
   "nbconvert_exporter": "python",
   "pygments_lexer": "ipython3",
   "version": "3.10.7"
  }
 },
 "nbformat": 4,
 "nbformat_minor": 5
}
