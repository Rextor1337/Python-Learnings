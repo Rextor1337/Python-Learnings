{
 "cells": [
  {
   "cell_type": "code",
   "execution_count": 1,
   "id": "e9c85244",
   "metadata": {},
   "outputs": [],
   "source": [
    "import numpy as np"
   ]
  },
  {
   "cell_type": "code",
   "execution_count": 2,
   "id": "b815eaef",
   "metadata": {},
   "outputs": [],
   "source": [
    "myArray = np.arange(0,15)"
   ]
  },
  {
   "cell_type": "code",
   "execution_count": 3,
   "id": "7c0f9954",
   "metadata": {},
   "outputs": [
    {
     "data": {
      "text/plain": [
       "array([ 0,  1,  2,  3,  4,  5,  6,  7,  8,  9, 10, 11, 12, 13, 14])"
      ]
     },
     "execution_count": 3,
     "metadata": {},
     "output_type": "execute_result"
    }
   ],
   "source": [
    "myArray"
   ]
  },
  {
   "cell_type": "code",
   "execution_count": 4,
   "id": "fa1e1d04",
   "metadata": {},
   "outputs": [
    {
     "data": {
      "text/plain": [
       "5"
      ]
     },
     "execution_count": 4,
     "metadata": {},
     "output_type": "execute_result"
    }
   ],
   "source": [
    "myArray[5]"
   ]
  },
  {
   "cell_type": "code",
   "execution_count": 6,
   "id": "5652d719",
   "metadata": {},
   "outputs": [
    {
     "data": {
      "text/plain": [
       "array([2, 3, 4])"
      ]
     },
     "execution_count": 6,
     "metadata": {},
     "output_type": "execute_result"
    }
   ],
   "source": [
    "myArray[2:5]"
   ]
  },
  {
   "cell_type": "code",
   "execution_count": 7,
   "id": "4a372730",
   "metadata": {},
   "outputs": [],
   "source": [
    "myArray[3:8] = -5"
   ]
  },
  {
   "cell_type": "code",
   "execution_count": 8,
   "id": "c68cc12b",
   "metadata": {},
   "outputs": [
    {
     "data": {
      "text/plain": [
       "array([ 0,  1,  2, -5, -5, -5, -5, -5,  8,  9, 10, 11, 12, 13, 14])"
      ]
     },
     "execution_count": 8,
     "metadata": {},
     "output_type": "execute_result"
    }
   ],
   "source": [
    "myArray"
   ]
  },
  {
   "cell_type": "code",
   "execution_count": 9,
   "id": "b2719ef5",
   "metadata": {},
   "outputs": [],
   "source": [
    "myArray2 = np.arange(0,24)"
   ]
  },
  {
   "cell_type": "code",
   "execution_count": 10,
   "id": "07a67cb0",
   "metadata": {},
   "outputs": [],
   "source": [
    "myArray2Cut = myArray2[2:5]"
   ]
  },
  {
   "cell_type": "code",
   "execution_count": 11,
   "id": "bcad7991",
   "metadata": {},
   "outputs": [
    {
     "data": {
      "text/plain": [
       "array([2, 3, 4])"
      ]
     },
     "execution_count": 11,
     "metadata": {},
     "output_type": "execute_result"
    }
   ],
   "source": [
    "myArray2Cut"
   ]
  },
  {
   "cell_type": "code",
   "execution_count": 12,
   "id": "b3ecfc62",
   "metadata": {},
   "outputs": [],
   "source": [
    "myArray2Cut[:] = 100"
   ]
  },
  {
   "cell_type": "code",
   "execution_count": 13,
   "id": "c8794b31",
   "metadata": {},
   "outputs": [
    {
     "data": {
      "text/plain": [
       "array([100, 100, 100])"
      ]
     },
     "execution_count": 13,
     "metadata": {},
     "output_type": "execute_result"
    }
   ],
   "source": [
    "myArray2Cut"
   ]
  },
  {
   "cell_type": "code",
   "execution_count": 14,
   "id": "52880467",
   "metadata": {},
   "outputs": [
    {
     "data": {
      "text/plain": [
       "array([  0,   1, 100, 100, 100,   5,   6,   7,   8,   9,  10,  11,  12,\n",
       "        13,  14,  15,  16,  17,  18,  19,  20,  21,  22,  23])"
      ]
     },
     "execution_count": 14,
     "metadata": {},
     "output_type": "execute_result"
    }
   ],
   "source": [
    "myArray2"
   ]
  },
  {
   "cell_type": "code",
   "execution_count": 15,
   "id": "a70b8a58",
   "metadata": {},
   "outputs": [],
   "source": [
    "exArray = np.arange(0,24)"
   ]
  },
  {
   "cell_type": "code",
   "execution_count": 16,
   "id": "051d4a7d",
   "metadata": {},
   "outputs": [],
   "source": [
    "ex2Array = exArray.copy()"
   ]
  },
  {
   "cell_type": "code",
   "execution_count": 17,
   "id": "ff51c9e5",
   "metadata": {},
   "outputs": [
    {
     "data": {
      "text/plain": [
       "array([ 0,  1,  2,  3,  4,  5,  6,  7,  8,  9, 10, 11, 12, 13, 14, 15, 16,\n",
       "       17, 18, 19, 20, 21, 22, 23])"
      ]
     },
     "execution_count": 17,
     "metadata": {},
     "output_type": "execute_result"
    }
   ],
   "source": [
    "ex2Array"
   ]
  },
  {
   "cell_type": "code",
   "execution_count": 18,
   "id": "122d4062",
   "metadata": {},
   "outputs": [],
   "source": [
    "ex2Array[:]= 100"
   ]
  },
  {
   "cell_type": "code",
   "execution_count": 19,
   "id": "c873cfcf",
   "metadata": {},
   "outputs": [
    {
     "data": {
      "text/plain": [
       "array([100, 100, 100, 100, 100, 100, 100, 100, 100, 100, 100, 100, 100,\n",
       "       100, 100, 100, 100, 100, 100, 100, 100, 100, 100, 100])"
      ]
     },
     "execution_count": 19,
     "metadata": {},
     "output_type": "execute_result"
    }
   ],
   "source": [
    "ex2Array"
   ]
  },
  {
   "cell_type": "code",
   "execution_count": 20,
   "id": "b5c0ebc0",
   "metadata": {},
   "outputs": [
    {
     "data": {
      "text/plain": [
       "array([ 0,  1,  2,  3,  4,  5,  6,  7,  8,  9, 10, 11, 12, 13, 14, 15, 16,\n",
       "       17, 18, 19, 20, 21, 22, 23])"
      ]
     },
     "execution_count": 20,
     "metadata": {},
     "output_type": "execute_result"
    }
   ],
   "source": [
    "exArray"
   ]
  },
  {
   "cell_type": "code",
   "execution_count": null,
   "id": "cb51ab37",
   "metadata": {},
   "outputs": [],
   "source": []
  }
 ],
 "metadata": {
  "kernelspec": {
   "display_name": "Python 3 (ipykernel)",
   "language": "python",
   "name": "python3"
  },
  "language_info": {
   "codemirror_mode": {
    "name": "ipython",
    "version": 3
   },
   "file_extension": ".py",
   "mimetype": "text/x-python",
   "name": "python",
   "nbconvert_exporter": "python",
   "pygments_lexer": "ipython3",
   "version": "3.10.7"
  }
 },
 "nbformat": 4,
 "nbformat_minor": 5
}
