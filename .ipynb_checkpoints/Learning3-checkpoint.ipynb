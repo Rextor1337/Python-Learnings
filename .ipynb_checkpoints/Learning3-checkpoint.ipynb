{
 "cells": [
  {
   "cell_type": "code",
   "execution_count": 52,
   "id": "cda750bc",
   "metadata": {},
   "outputs": [
    {
     "name": "stdout",
     "output_type": "stream",
     "text": [
      "5\n",
      "a\n",
      "1\n"
     ]
    },
    {
     "ename": "TypeError",
     "evalue": "unhashable type: 'list'",
     "output_type": "error",
     "traceback": [
      "\u001b[1;31m---------------------------------------------------------------------------\u001b[0m",
      "\u001b[1;31mTypeError\u001b[0m                                 Traceback (most recent call last)",
      "Cell \u001b[1;32mIn [52], line 17\u001b[0m\n\u001b[0;32m     15\u001b[0m     name \u001b[38;5;241m=\u001b[39m \u001b[38;5;28minput\u001b[39m()\n\u001b[0;32m     16\u001b[0m     score \u001b[38;5;241m=\u001b[39m \u001b[38;5;28mfloat\u001b[39m(\u001b[38;5;28minput\u001b[39m())\n\u001b[1;32m---> 17\u001b[0m     \u001b[43mL\u001b[49m\u001b[38;5;241;43m.\u001b[39;49m\u001b[43madd\u001b[49m\u001b[43m(\u001b[49m\u001b[43m[\u001b[49m\u001b[43mname\u001b[49m\u001b[43m,\u001b[49m\u001b[43mscore\u001b[49m\u001b[43m]\u001b[49m\u001b[43m)\u001b[49m\n\u001b[0;32m     19\u001b[0m \u001b[38;5;28;01mdef\u001b[39;00m \u001b[38;5;21msecond_smallest\u001b[39m(L):\n\u001b[0;32m     20\u001b[0m     m1 \u001b[38;5;241m=\u001b[39m m2 \u001b[38;5;241m=\u001b[39m \u001b[38;5;28mfloat\u001b[39m(\u001b[38;5;124m'\u001b[39m\u001b[38;5;124minf\u001b[39m\u001b[38;5;124m'\u001b[39m)\n",
      "\u001b[1;31mTypeError\u001b[0m: unhashable type: 'list'"
     ]
    }
   ],
   "source": [
    "a = True \n",
    "y = 0\n",
    "while a:\n",
    "    x = int(input())\n",
    "    if x<2 or x>5:\n",
    "        continue\n",
    "    else:\n",
    "        y = x\n",
    "        a = False\n",
    "  \n",
    "L = set()\n",
    "\n",
    "\n",
    "for i in range(y):\n",
    "    name = input()\n",
    "    score = float(input())\n",
    "    L.add([name,score])\n",
    "\n",
    "def second_smallest(L):\n",
    "    m1 = m2 = float('inf')\n",
    "    for x in L:\n",
    "        if x[1] <= m1:\n",
    "            m1, m2 = x[1], m1\n",
    "        elif x[1] < m2:\n",
    "             m2 = x[1]\n",
    "    return m2 \n",
    "\n",
    "def name(m2,L):\n",
    "    N = []\n",
    "    for c in L:\n",
    "        if m2 in c:\n",
    "            N.append(c[0])\n",
    "        else:\n",
    "            continue\n",
    "    return N        \n",
    "\n",
    "def name2(N):\n",
    "    M = sorted(N)\n",
    "    for x in M:\n",
    "        if x != None:\n",
    "            print(x)\n",
    "   \n",
    "name2(name(second_smallest(L),L))\n",
    "\n",
    "    "
   ]
  },
  {
   "cell_type": "markdown",
   "id": "ac1138eb",
   "metadata": {},
   "source": [
    "# "
   ]
  },
  {
   "cell_type": "code",
   "execution_count": 26,
   "id": "e1429cbb",
   "metadata": {},
   "outputs": [
    {
     "name": "stdout",
     "output_type": "stream",
     "text": [
      "N:1\n",
      "N:8\n",
      "N:3\n",
      "3\n"
     ]
    }
   ],
   "source": [
    "a = True \n",
    "y = 0\n",
    "while a:\n",
    "    x = int(input(\"N:\"))\n",
    "    if x<2 or x>5:\n",
    "        continue\n",
    "    else:\n",
    "        y = x\n",
    "        a = False\n",
    "print(y)  "
   ]
  },
  {
   "cell_type": "markdown",
   "id": "a4af7ca3",
   "metadata": {},
   "source": [
    "5\n",
    "Harsh\n",
    "20\n",
    "Beria\n",
    "20\n",
    "Varun\n",
    "19\n",
    "Kakunami\n",
    "19\n",
    "Vikas\n",
    "21"
   ]
  }
 ],
 "metadata": {
  "kernelspec": {
   "display_name": "Python 3 (ipykernel)",
   "language": "python",
   "name": "python3"
  },
  "language_info": {
   "codemirror_mode": {
    "name": "ipython",
    "version": 3
   },
   "file_extension": ".py",
   "mimetype": "text/x-python",
   "name": "python",
   "nbconvert_exporter": "python",
   "pygments_lexer": "ipython3",
   "version": "3.10.7"
  }
 },
 "nbformat": 4,
 "nbformat_minor": 5
}
