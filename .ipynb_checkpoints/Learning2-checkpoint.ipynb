{
 "cells": [
  {
   "cell_type": "code",
   "execution_count": 22,
   "id": "996c8a64",
   "metadata": {},
   "outputs": [
    {
     "name": "stdout",
     "output_type": "stream",
     "text": [
      "ilk sayi:2\n",
      "ikinci sayi:0\n",
      "Yapilacak islemi giriniz:/\n",
      "Ikinci sayi 0 olmaz aq:a\n"
     ]
    },
    {
     "ename": "ValueError",
     "evalue": "invalid literal for int() with base 10: 'a'",
     "output_type": "error",
     "traceback": [
      "\u001b[1;31m---------------------------------------------------------------------------\u001b[0m",
      "\u001b[1;31mZeroDivisionError\u001b[0m                         Traceback (most recent call last)",
      "Cell \u001b[1;32mIn [22], line 15\u001b[0m, in \u001b[0;36mhesap\u001b[1;34m(x, y, op)\u001b[0m\n\u001b[0;32m     14\u001b[0m \u001b[38;5;28;01mtry\u001b[39;00m:\n\u001b[1;32m---> 15\u001b[0m     \u001b[38;5;28;01mreturn\u001b[39;00m \u001b[43mx\u001b[49m\u001b[38;5;241;43m/\u001b[39;49m\u001b[43my\u001b[49m\n\u001b[0;32m     16\u001b[0m \u001b[38;5;28;01mexcept\u001b[39;00m:\n",
      "\u001b[1;31mZeroDivisionError\u001b[0m: division by zero",
      "\nDuring handling of the above exception, another exception occurred:\n",
      "\u001b[1;31mValueError\u001b[0m                                Traceback (most recent call last)",
      "Cell \u001b[1;32mIn [22], line 25\u001b[0m\n\u001b[0;32m     22\u001b[0m         m\u001b[38;5;241m=\u001b[39mhesap(x,y,z)\n\u001b[0;32m     23\u001b[0m         \u001b[38;5;28;01mreturn\u001b[39;00m m\n\u001b[1;32m---> 25\u001b[0m c \u001b[38;5;241m=\u001b[39m \u001b[43mhesap\u001b[49m\u001b[43m(\u001b[49m\u001b[43mx\u001b[49m\u001b[43m,\u001b[49m\u001b[43my\u001b[49m\u001b[43m,\u001b[49m\u001b[43mop\u001b[49m\u001b[43m)\u001b[49m\n\u001b[0;32m     26\u001b[0m \u001b[38;5;28mprint\u001b[39m(c)\n",
      "Cell \u001b[1;32mIn [22], line 17\u001b[0m, in \u001b[0;36mhesap\u001b[1;34m(x, y, op)\u001b[0m\n\u001b[0;32m     15\u001b[0m     \u001b[38;5;28;01mreturn\u001b[39;00m x\u001b[38;5;241m/\u001b[39my\n\u001b[0;32m     16\u001b[0m \u001b[38;5;28;01mexcept\u001b[39;00m:\n\u001b[1;32m---> 17\u001b[0m     y\u001b[38;5;241m=\u001b[39m\u001b[38;5;28;43mint\u001b[39;49m\u001b[43m(\u001b[49m\u001b[38;5;28;43minput\u001b[39;49m\u001b[43m(\u001b[49m\u001b[38;5;124;43m\"\u001b[39;49m\u001b[38;5;124;43mIkinci sayi 0 olmaz aq:\u001b[39;49m\u001b[38;5;124;43m\"\u001b[39;49m\u001b[43m)\u001b[49m\u001b[43m)\u001b[49m\n\u001b[0;32m     18\u001b[0m     m\u001b[38;5;241m=\u001b[39mhesap(x,y,op)\n\u001b[0;32m     19\u001b[0m     \u001b[38;5;28;01mreturn\u001b[39;00m m            \n",
      "\u001b[1;31mValueError\u001b[0m: invalid literal for int() with base 10: 'a'"
     ]
    }
   ],
   "source": [
    "\n",
    "    \n",
    "x=int(input(\"ilk sayi:\")) \n",
    "y=int(input(\"ikinci sayi:\")) \n",
    "op=input(\"Yapilacak islemi giriniz:\")\n",
    "\n",
    "\n",
    "def hesap(x,y,op):\n",
    "    if op == \"+\":\n",
    "        return x+y\n",
    "    elif op == \"-\":\n",
    "        return x-y\n",
    "    elif op == \"*\":\n",
    "        return x*y\n",
    "    elif op == \"/\":\n",
    "        try:\n",
    "            return x/y\n",
    "        except:\n",
    "            y=int(input(\"Ikinci sayi 0 olmaz aq:\"))\n",
    "            m=hesap(x,y,op)\n",
    "            return m            \n",
    "    else :\n",
    "        z=input(\"Hatali secim tekrar yaziniz:\")\n",
    "        m=hesap(x,y,z)\n",
    "        return m\n",
    "        \n",
    "c = hesap(x,y,op)\n",
    "print(c)\n",
    "    \n"
   ]
  },
  {
   "cell_type": "code",
   "execution_count": null,
   "id": "a7b77163",
   "metadata": {},
   "outputs": [],
   "source": []
  },
  {
   "cell_type": "code",
   "execution_count": null,
   "id": "bb342848",
   "metadata": {},
   "outputs": [],
   "source": []
  }
 ],
 "metadata": {
  "kernelspec": {
   "display_name": "Python 3 (ipykernel)",
   "language": "python",
   "name": "python3"
  },
  "language_info": {
   "codemirror_mode": {
    "name": "ipython",
    "version": 3
   },
   "file_extension": ".py",
   "mimetype": "text/x-python",
   "name": "python",
   "nbconvert_exporter": "python",
   "pygments_lexer": "ipython3",
   "version": "3.10.7"
  }
 },
 "nbformat": 4,
 "nbformat_minor": 5
}
